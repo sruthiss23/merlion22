{
 "cells": [
  {
   "cell_type": "markdown",
   "id": "c4f4b62d",
   "metadata": {},
   "source": [
    "# Case Study 02"
   ]
  },
  {
   "cell_type": "code",
   "execution_count": 1,
   "id": "08a0766f",
   "metadata": {},
   "outputs": [
    {
     "name": "stdout",
     "output_type": "stream",
     "text": [
      "Enter the list : 2 3 4 5 6 7\n",
      "sum =  27\n"
     ]
    }
   ],
   "source": [
    "#1. Write a Python function to sum all the numbers in a list. (Create a list andget list elements from user)\n",
    "\n",
    "\n",
    "def sum_lst():\n",
    "    l=input('Enter the list : ')\n",
    "    l=l.split(' ')\n",
    "    l=[int(n) for n in l]\n",
    "    return sum(l)\n",
    "\n",
    "s=sum_lst()\n",
    "print('sum = ',s)"
   ]
  },
  {
   "cell_type": "code",
   "execution_count": 2,
   "id": "2a0a9462",
   "metadata": {},
   "outputs": [
    {
     "name": "stdout",
     "output_type": "stream",
     "text": [
      "Enter the string mALAYALAM\n",
      "Palindrome\n"
     ]
    }
   ],
   "source": [
    "#2. Write a Python function that checks whether a passed string is palindrome or not\n",
    "\n",
    "def is_palindrome():\n",
    "    \n",
    "    st1=st.lower()\n",
    "    if( st1==st1[::-1]):\n",
    "        return('Palindrome')\n",
    "    else:\n",
    "        return('not palindrome')\n",
    "    \n",
    "st=input('Enter the string ')\n",
    "print(is_palindrome())\n"
   ]
  },
  {
   "cell_type": "code",
   "execution_count": 3,
   "id": "80505161",
   "metadata": {},
   "outputs": [
    {
     "name": "stdout",
     "output_type": "stream",
     "text": [
      "Enter the range10\n",
      "Fibonacci sequence :\n",
      "0\n",
      "1\n",
      "1\n",
      "2\n",
      "3\n",
      "5\n",
      "8\n",
      "13\n",
      "21\n",
      "34\n"
     ]
    }
   ],
   "source": [
    "#3. Write a Python recursive function to find the Fibonacci series. Get the limit from the user\n",
    "\n",
    "def fibonacci(n):\n",
    "    if n<=1:\n",
    "        return(n)\n",
    "    else:\n",
    "        return(fibonacci(n-1)+fibonacci(n-2))\n",
    "\n",
    "\n",
    "r=int(input('Enter the range'))\n",
    "if r<=0:print('Please Enter a positive digit ')\n",
    "else:print('Fibonacci sequence :')\n",
    "for i in range(r):\n",
    "        print(fibonacci(i))"
   ]
  },
  {
   "cell_type": "code",
   "execution_count": 22,
   "id": "13b53ba6",
   "metadata": {},
   "outputs": [
    {
     "name": "stdout",
     "output_type": "stream",
     "text": [
      "Enter the number: 5\n",
      "Multiplicatin table of number 5\n",
      "5 * 1 = 5\n",
      "5 * 2 = 10\n",
      "5 * 3 = 15\n",
      "5 * 4 = 20\n",
      "5 * 5 = 25\n",
      "5 * 6 = 30\n",
      "5 * 7 = 35\n",
      "5 * 8 = 40\n",
      "5 * 9 = 45\n",
      "5 * 10 = 50\n"
     ]
    }
   ],
   "source": [
    "#4. Write a Python recursive function to print the multiplication table of given number\n",
    "\n",
    "\n",
    "def multi(num,c):\n",
    "    if(c<11):\n",
    "        print(num,'*',c ,\"=\",num*c)\n",
    "        return(multi(num,c+1))\n",
    "    else:\n",
    "        return\n",
    "n=int(input('Enter the number: '))\n",
    "print('Multiplicatin table of number',n)\n",
    "multi(n,1)"
   ]
  },
  {
   "cell_type": "code",
   "execution_count": 4,
   "id": "ed497592",
   "metadata": {},
   "outputs": [
    {
     "name": "stdout",
     "output_type": "stream",
     "text": [
      "Enter the text: APPLE\n",
      "vowels:  2\n",
      "Consonant:  3\n"
     ]
    }
   ],
   "source": [
    "#5. Define a function which counts vowels and consonant in a word.\n",
    "def char_count(x):\n",
    "    v=0\n",
    "    c=0\n",
    "    \n",
    "    for i in range(0,len(x)):\n",
    "        ch=x[i]\n",
    "        if (ch>='a' and ch<='z') or (ch>='A' and ch<='Z'):\n",
    "            \n",
    "            ch=ch.lower()\n",
    "            \n",
    "            if (ch=='a' or ch=='e'or ch=='i' or ch=='o'or ch=='u'):\n",
    "                \n",
    "                v+=1\n",
    "                \n",
    "            else:\n",
    "                \n",
    "                c+=1\n",
    "                \n",
    "    print(\"vowels: \",v)\n",
    "    print(\"Consonant: \",c)\n",
    "    \n",
    "x=input(\"Enter the text: \")\n",
    "char_count(x)\n"
   ]
  },
  {
   "cell_type": "code",
   "execution_count": 5,
   "id": "005792ff",
   "metadata": {},
   "outputs": [
    {
     "name": "stdout",
     "output_type": "stream",
     "text": [
      "Enter the string malayalam\n",
      "MALAYALAM\n"
     ]
    }
   ],
   "source": [
    "#6. Define a function that accepts lowercase words and returns uppercase words.\n",
    "\n",
    "def toupper():\n",
    "    \n",
    "    \n",
    "    if (st.islower()==True):\n",
    "        return(st.upper())\n",
    "    else:\n",
    "        return\n",
    "    \n",
    "st=input('Enter the string ')\n",
    "print(toupper())"
   ]
  },
  {
   "cell_type": "code",
   "execution_count": 7,
   "id": "95c2eaa1",
   "metadata": {},
   "outputs": [
    {
     "name": "stdout",
     "output_type": "stream",
     "text": [
      "Given input: [12, 0, 'None', 23, 'None', -55, 234, 89, 'None', 0, 6, -12]\n",
      " Output:  [12, 0, 23, -55, 234, 89, 0, 6, -12]\n"
     ]
    }
   ],
   "source": [
    "#7. Write a Python program to remove ‘None’ values from a given list using the lambda function.\n",
    "#Given input = [12, 0, None, 23, None, -55, 234, 89, None, 0, 6, -12]\n",
    "#Expected output = [12, 0, 23, -55, 234, 89, 0, 6, -12]\n",
    "\n",
    "def remove_word(list1, remove_word):\n",
    "    result = list(filter(lambda word: word not in remove_word, list1))\n",
    "    return result\n",
    "        \n",
    "l =[12, 0, 'None', 23, 'None', -55, 234, 89, 'None', 0, 6, -12]\n",
    "remove_w = ['None']\n",
    "print(\"Given input:\",l)\n",
    "\n",
    "print(\" Output: \",remove_word(l, remove_w))\n"
   ]
  },
  {
   "cell_type": "code",
   "execution_count": 29,
   "id": "8e04307a",
   "metadata": {},
   "outputs": [],
   "source": [
    "#8. Write a Rectangle class in Python language, allowing you to build arectangle with length and width attributes.\n",
    "#a. Create a Perimeter() method to calculate the perimeter of therectangle and a Area() method to calculate \n",
    "#the area of the rectangle.\n",
    "#b. Create a method display() that display the length, width, perimeterand area of an object created using\n",
    "#an instantiation on rectangleclass.\n",
    "#c. Create a Parallelepiped child class inheriting from the Rectangleclass \n",
    "#and with a height attribute and another Volume() method tocalculate the volume of the Parallelepiped."
   ]
  },
  {
   "cell_type": "code",
   "execution_count": 1,
   "id": "8d41ad36",
   "metadata": {},
   "outputs": [
    {
     "name": "stdout",
     "output_type": "stream",
     "text": [
      "Length =  2 breadth =  4\n",
      "area =  8\n",
      "perimeter =  12\n",
      "volume 16\n"
     ]
    }
   ],
   "source": [
    "class rectangle:\n",
    "    def __init__(self,l,b):\n",
    "        self.l=l\n",
    "        self.b=b\n",
    "    \n",
    "    def perimeter(self):\n",
    "        self.perimeter=2*(self.l+self.b)\n",
    "        return('perimeter = ',self.perimeter)\n",
    "        \n",
    "    def area(self):\n",
    "        self.area=self.l*self.b\n",
    "        return('area =',self.area)\n",
    "        \n",
    "    def display(self):\n",
    "        print('Length = ',self.l,'breadth = ',self.b)\n",
    "        print('area = ',self.area)\n",
    "        print('perimeter = ',self.perimeter)\n",
    "        \n",
    "        \n",
    "class parallelepiped(rectangle):\n",
    "    def __init__(self,h):\n",
    "        self.h=h\n",
    "    def volume(self):\n",
    "        print('volume',(self.h*rect.area))\n",
    "        \n",
    "rect=rectangle(2,4)\n",
    "rect.area()\n",
    "rect.perimeter()\n",
    "rect.display()\n",
    "r1=parallelepiped(2)\n",
    "r1.volume()\n",
    "\n"
   ]
  },
  {
   "cell_type": "code",
   "execution_count": 9,
   "id": "6752f066",
   "metadata": {},
   "outputs": [
    {
     "name": "stdout",
     "output_type": "stream",
     "text": [
      "Account Number :  987654321\n",
      "Account Name :  Vaiga\n",
      "Account balance:  10250 Rs\n"
     ]
    }
   ],
   "source": [
    "#9. Create a Python class called BankAccount which represents a bank account, having as attributes: accountNumber (numeric type), name\n",
    "#(name of the account owner as string type), balance.\n",
    "#a. Create a constructor with parameters: accountNumber, name,balance.\n",
    "#b. Create a Deposit() method which manages the deposit actions.\n",
    "#c. Create a Withdrawal() method which manages withdrawalsactions.\n",
    "#d. Create an bankFees() method to apply the bank fees with a percentage of 5% of the balance account.#e. Create a display() method to display account details.\n",
    "#f. Give the complete code for the BankAccount class.\n",
    "\n",
    "\n",
    "\n",
    "class BankAccount:\n",
    "    \n",
    "    def __init__(self,accountnumber,name,balance):\n",
    "        self.accountnumber=accountnumber\n",
    "        self.name=name\n",
    "        self.balance=balance\n",
    "        \n",
    "    def Deposit(self,deposit):\n",
    "        self.balance=self.balance+deposit\n",
    "        \n",
    "    def Withdrawal(self,widrawal):\n",
    "        if(self.balance < widrawal ):\n",
    "            print('Insufficient balance !')\n",
    "            \n",
    "        else:\n",
    "            self.balance=self.balance-widrawal\n",
    "            \n",
    "    def BankFees(self):\n",
    "        self.balance=(95/100)*self.balance\n",
    "        \n",
    "        \n",
    "    def Display(self):\n",
    "        print(\"Account Number : \",self.accountnumber)\n",
    "        print('Account Name : ',self.name)\n",
    "        print('Account balance: ', self.balance,\"Rs\")\n",
    "        \n",
    "nwacct=BankAccount(987654321,\"Vaiga\",10000)\n",
    "nwacct.Withdrawal(500)\n",
    "nwacct.Deposit(750)\n",
    "nwacct.Display()\n",
    "\n"
   ]
  },
  {
   "cell_type": "code",
   "execution_count": 4,
   "id": "2b7f14ad",
   "metadata": {},
   "outputs": [],
   "source": [
    "#10. Create a base class rectangle with attributes length and breadth, methods area and perimeter.\n",
    "#a. Save the rectangle class as a python file rectangle.py file.\n",
    "#b. Open another python script and import the rectangle.py file.\n",
    "#c. In the newly created script derive a child class called Parallelepiped class inheriting from the Rectangle class and with a height attribute\n",
    "#and another Volume() method to calculate the volume of the Parallelepiped.\n",
    "#d. Now create objects for parent class and child class in newly created script and access methods of parent class and child class.\n"
   ]
  },
  {
   "cell_type": "code",
   "execution_count": null,
   "id": "95db11ce",
   "metadata": {},
   "outputs": [],
   "source": []
  }
 ],
 "metadata": {
  "kernelspec": {
   "display_name": "Python 3 (ipykernel)",
   "language": "python",
   "name": "python3"
  },
  "language_info": {
   "codemirror_mode": {
    "name": "ipython",
    "version": 3
   },
   "file_extension": ".py",
   "mimetype": "text/x-python",
   "name": "python",
   "nbconvert_exporter": "python",
   "pygments_lexer": "ipython3",
   "version": "3.9.13"
  }
 },
 "nbformat": 4,
 "nbformat_minor": 5
}
