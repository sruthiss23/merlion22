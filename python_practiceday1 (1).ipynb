{
 "cells": [
  {
   "cell_type": "code",
   "execution_count": 1,
   "id": "98bb89b5",
   "metadata": {},
   "outputs": [
    {
     "name": "stdout",
     "output_type": "stream",
     "text": [
      "Enter the nameAnisha\n",
      "Enter the Roll number21\n",
      "Enter the mark78\n",
      "Name: Anisha\n",
      "Roll Number: 21\n",
      "Mark: 78\n"
     ]
    }
   ],
   "source": [
    "name=input('Enter the name')  # question1\n",
    "roll_number=input('Enter the Roll number')\n",
    "mark=input('Enter the mark')\n",
    "print('Name:',name)\n",
    "print('Roll Number:',roll_number)\n",
    "print('Mark:',mark)"
   ]
  },
  {
   "cell_type": "code",
   "execution_count": 2,
   "id": "544ceae3",
   "metadata": {
    "scrolled": true
   },
   "outputs": [
    {
     "name": "stdout",
     "output_type": "stream",
     "text": [
      "Enter the temperature in Farenheit98.6\n",
      "Temperature in Celsius= 37.0\n"
     ]
    }
   ],
   "source": [
    "f=float(input('Enter the temperature in Farenheit')) #farenheit to celsius,question2\n",
    "c=(f-32)*5/9\n",
    "print('Temperature in Celsius=',c)"
   ]
  },
  {
   "cell_type": "code",
   "execution_count": 3,
   "id": "c00abbd4",
   "metadata": {},
   "outputs": [
    {
     "name": "stdout",
     "output_type": "stream",
     "text": [
      "Enter the temperature in celcius37\n",
      "temperature in Farenheit = 98.60000000000001\n"
     ]
    }
   ],
   "source": [
    "c1=float(input('Enter the temperature in celcius'))#celsius to farenheit\n",
    "f1=32+(9/5)*c1\n",
    "print('temperature in Farenheit =',f1)"
   ]
  },
  {
   "cell_type": "code",
   "execution_count": 4,
   "id": "71dd1a3c",
   "metadata": {},
   "outputs": [
    {
     "name": "stdout",
     "output_type": "stream",
     "text": [
      "Enter the number1 4\n",
      "Enter the number2 2.5\n",
      "Product = 10.0\n"
     ]
    }
   ],
   "source": [
    "n1=float(input('Enter the number1 '))  #question 3\n",
    "n2=float(input('Enter the number2 '))\n",
    "p=n1*n2\n",
    "print('Product =',p)"
   ]
  },
  {
   "cell_type": "code",
   "execution_count": 5,
   "id": "24faf142",
   "metadata": {},
   "outputs": [
    {
     "data": {
      "text/plain": [
       "3.141592653589793"
      ]
     },
     "execution_count": 5,
     "metadata": {},
     "output_type": "execute_result"
    }
   ],
   "source": [
    "import math\n",
    "math.pi"
   ]
  },
  {
   "cell_type": "code",
   "execution_count": 6,
   "id": "4dfa8a1a",
   "metadata": {},
   "outputs": [
    {
     "name": "stdout",
     "output_type": "stream",
     "text": [
      "Enter the radius in cm 10\n",
      "Area in square cm = 314.1592653589793\n"
     ]
    }
   ],
   "source": [
    "r=int(input('Enter the radius in cm ')) #question 5\n",
    "area=math.pi*r*r\n",
    "print('Area in square cm =',area)"
   ]
  },
  {
   "cell_type": "code",
   "execution_count": 7,
   "id": "9f7729b8",
   "metadata": {},
   "outputs": [
    {
     "name": "stdout",
     "output_type": "stream",
     "text": [
      "\"Learn python  by developing a website\"\n",
      "\"Learn**python**by Developing a**website\"**\""
     ]
    }
   ],
   "source": [
    "print('\"Learn python  by developing a website\"')   #question 4\n",
    "print('\"Learn',end='**')\n",
    "print('python',end=\"**\")\n",
    "print('by Developing a',end=('**'))\n",
    "print('website\"',end=('**\"'))"
   ]
  },
  {
   "cell_type": "code",
   "execution_count": 8,
   "id": "7081669c",
   "metadata": {},
   "outputs": [],
   "source": [
    "list1=[2,4,5,6,7,8,8,9]"
   ]
  },
  {
   "cell_type": "code",
   "execution_count": 9,
   "id": "dcbf1cf3",
   "metadata": {},
   "outputs": [
    {
     "data": {
      "text/plain": [
       "type"
      ]
     },
     "execution_count": 9,
     "metadata": {},
     "output_type": "execute_result"
    }
   ],
   "source": [
    "type"
   ]
  },
  {
   "cell_type": "code",
   "execution_count": 12,
   "id": "c017baf5",
   "metadata": {},
   "outputs": [
    {
     "name": "stdout",
     "output_type": "stream",
     "text": [
      "Enter the number6\n",
      "Enter the postion1\n",
      "The list is  [2, 6, 4, 4, 5, 6, 7, 8, 8, 9]\n"
     ]
    }
   ],
   "source": [
    "no=int(input(\"Enter the number\"))  #question6\n",
    "pos=int(input(\"Enter the postion\"))\n",
    "list1.insert(pos,no)\n",
    "print( \"The list is \",list1)"
   ]
  },
  {
   "cell_type": "code",
   "execution_count": 13,
   "id": "df176854",
   "metadata": {},
   "outputs": [],
   "source": [
    "d={\"name\":\"John\",\"Age\":50,\"Salary\":8000,\"City\":\"Newyork\"}   #question 7   "
   ]
  },
  {
   "cell_type": "code",
   "execution_count": 14,
   "id": "d39b521b",
   "metadata": {},
   "outputs": [
    {
     "data": {
      "text/plain": [
       "{'name': 'John', 'Age': 50, 'Salary': 8000, 'City': 'Newyork'}"
      ]
     },
     "execution_count": 14,
     "metadata": {},
     "output_type": "execute_result"
    }
   ],
   "source": [
    "d"
   ]
  },
  {
   "cell_type": "code",
   "execution_count": 16,
   "id": "a5f34e30",
   "metadata": {},
   "outputs": [
    {
     "name": "stdout",
     "output_type": "stream",
     "text": [
      "Enter the location Canada\n"
     ]
    },
    {
     "data": {
      "text/plain": [
       "{'name': 'John', 'Age': 50, 'Salary': 8000, 'City': 'Canada'}"
      ]
     },
     "execution_count": 16,
     "metadata": {},
     "output_type": "execute_result"
    }
   ],
   "source": [
    "ct=input(\"Enter the location \")\n",
    "d['City']=ct\n",
    "d\n"
   ]
  },
  {
   "cell_type": "code",
   "execution_count": 17,
   "id": "dd803255",
   "metadata": {},
   "outputs": [],
   "source": [
    "d2={'emp1':{'Name':'John','Salary':7500},'emp2':{'Name':'Emma','Salary':8000},'emp3':{'Name':'Brad','Salary':500}} #qn 8"
   ]
  },
  {
   "cell_type": "code",
   "execution_count": 19,
   "id": "0f65dbd5",
   "metadata": {},
   "outputs": [
    {
     "data": {
      "text/plain": [
       "{'emp1': {'Name': 'John', 'Salary': 7500},\n",
       " 'emp2': {'Name': 'Emma', 'Salary': 8000},\n",
       " 'emp3': {'Name': 'Brad', 'Salary': 500}}"
      ]
     },
     "execution_count": 19,
     "metadata": {},
     "output_type": "execute_result"
    }
   ],
   "source": [
    "d2"
   ]
  },
  {
   "cell_type": "code",
   "execution_count": 27,
   "id": "6f1f8df3",
   "metadata": {},
   "outputs": [],
   "source": [
    "d2['emp3']['Salary']=8500"
   ]
  },
  {
   "cell_type": "code",
   "execution_count": 28,
   "id": "f0fa9f52",
   "metadata": {},
   "outputs": [
    {
     "data": {
      "text/plain": [
       "{'emp1': {'Name': 'John', 'Salary': 7500},\n",
       " 'emp2': {'Name': 'Emma', 'Salary': 8000},\n",
       " 'emp3': {'Name': 'Brad', 'Salary': 8500}}"
      ]
     },
     "execution_count": 28,
     "metadata": {},
     "output_type": "execute_result"
    }
   ],
   "source": [
    "d2"
   ]
  },
  {
   "cell_type": "code",
   "execution_count": 29,
   "id": "df2e8e06",
   "metadata": {},
   "outputs": [],
   "source": [
    "tuple1=(10,20,43,54,56,68)   #question 9"
   ]
  },
  {
   "cell_type": "code",
   "execution_count": 32,
   "id": "f174649e",
   "metadata": {},
   "outputs": [],
   "source": [
    "t1=(tuple1[2:4])"
   ]
  },
  {
   "cell_type": "code",
   "execution_count": 33,
   "id": "eef6394d",
   "metadata": {},
   "outputs": [
    {
     "data": {
      "text/plain": [
       "(43, 54)"
      ]
     },
     "execution_count": 33,
     "metadata": {},
     "output_type": "execute_result"
    }
   ],
   "source": [
    "t1"
   ]
  },
  {
   "cell_type": "code",
   "execution_count": 35,
   "id": "176f231a",
   "metadata": {},
   "outputs": [
    {
     "data": {
      "text/plain": [
       "tuple"
      ]
     },
     "execution_count": 35,
     "metadata": {},
     "output_type": "execute_result"
    }
   ],
   "source": [
    "type(t1)"
   ]
  },
  {
   "cell_type": "code",
   "execution_count": 39,
   "id": "867b0dd2",
   "metadata": {},
   "outputs": [
    {
     "data": {
      "text/plain": [
       "3"
      ]
     },
     "execution_count": 39,
     "metadata": {},
     "output_type": "execute_result"
    }
   ],
   "source": [
    "tuple2=(50,10,60,70,50,83,567,50,81) #question 10\n",
    "tuple2.count(50)"
   ]
  },
  {
   "cell_type": "code",
   "execution_count": null,
   "id": "3b24d23a",
   "metadata": {},
   "outputs": [],
   "source": []
  }
 ],
 "metadata": {
  "kernelspec": {
   "display_name": "Python 3 (ipykernel)",
   "language": "python",
   "name": "python3"
  },
  "language_info": {
   "codemirror_mode": {
    "name": "ipython",
    "version": 3
   },
   "file_extension": ".py",
   "mimetype": "text/x-python",
   "name": "python",
   "nbconvert_exporter": "python",
   "pygments_lexer": "ipython3",
   "version": "3.9.13"
  }
 },
 "nbformat": 4,
 "nbformat_minor": 5
}
