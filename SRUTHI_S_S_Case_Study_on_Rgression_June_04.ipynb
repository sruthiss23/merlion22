{
 "cells": [
  {
   "cell_type": "markdown",
   "id": "d6ba6873",
   "metadata": {},
   "source": [
    "# Case Study on Regression"
   ]
  },
  {
   "cell_type": "code",
   "execution_count": 244,
   "id": "67ce8b1d",
   "metadata": {},
   "outputs": [],
   "source": [
    "import numpy as np\n",
    "import pandas as pd\n",
    "import matplotlib.pyplot as plt\n",
    "import seaborn as sns"
   ]
  },
  {
   "cell_type": "markdown",
   "id": "5c10fe0a",
   "metadata": {},
   "source": [
    "# Loading data from local folder"
   ]
  },
  {
   "cell_type": "code",
   "execution_count": 245,
   "id": "ea2ed1d6",
   "metadata": {},
   "outputs": [],
   "source": [
    "data = pd.read_csv(r\"C:\\Users\\sruth\\OneDrive\\Desktop\\car_age_price.csv\")"
   ]
  },
  {
   "cell_type": "markdown",
   "id": "cb6cd9cf",
   "metadata": {},
   "source": [
    "#  Basic details of the dataset"
   ]
  },
  {
   "cell_type": "code",
   "execution_count": 246,
   "id": "2da2b462",
   "metadata": {},
   "outputs": [
    {
     "data": {
      "text/plain": [
       "(112, 2)"
      ]
     },
     "execution_count": 246,
     "metadata": {},
     "output_type": "execute_result"
    }
   ],
   "source": [
    "data.shape"
   ]
  },
  {
   "cell_type": "code",
   "execution_count": 247,
   "id": "58b6dc27",
   "metadata": {},
   "outputs": [
    {
     "data": {
      "text/html": [
       "<div>\n",
       "<style scoped>\n",
       "    .dataframe tbody tr th:only-of-type {\n",
       "        vertical-align: middle;\n",
       "    }\n",
       "\n",
       "    .dataframe tbody tr th {\n",
       "        vertical-align: top;\n",
       "    }\n",
       "\n",
       "    .dataframe thead th {\n",
       "        text-align: right;\n",
       "    }\n",
       "</style>\n",
       "<table border=\"1\" class=\"dataframe\">\n",
       "  <thead>\n",
       "    <tr style=\"text-align: right;\">\n",
       "      <th></th>\n",
       "      <th>Year</th>\n",
       "      <th>Price</th>\n",
       "    </tr>\n",
       "  </thead>\n",
       "  <tbody>\n",
       "    <tr>\n",
       "      <th>0</th>\n",
       "      <td>2018</td>\n",
       "      <td>465000</td>\n",
       "    </tr>\n",
       "    <tr>\n",
       "      <th>1</th>\n",
       "      <td>2019</td>\n",
       "      <td>755000</td>\n",
       "    </tr>\n",
       "    <tr>\n",
       "      <th>2</th>\n",
       "      <td>2019</td>\n",
       "      <td>700000</td>\n",
       "    </tr>\n",
       "    <tr>\n",
       "      <th>3</th>\n",
       "      <td>2018</td>\n",
       "      <td>465000</td>\n",
       "    </tr>\n",
       "    <tr>\n",
       "      <th>4</th>\n",
       "      <td>2018</td>\n",
       "      <td>465000</td>\n",
       "    </tr>\n",
       "    <tr>\n",
       "      <th>5</th>\n",
       "      <td>2015</td>\n",
       "      <td>350000</td>\n",
       "    </tr>\n",
       "    <tr>\n",
       "      <th>6</th>\n",
       "      <td>2016</td>\n",
       "      <td>425000</td>\n",
       "    </tr>\n",
       "    <tr>\n",
       "      <th>7</th>\n",
       "      <td>2017</td>\n",
       "      <td>575000</td>\n",
       "    </tr>\n",
       "    <tr>\n",
       "      <th>8</th>\n",
       "      <td>2017</td>\n",
       "      <td>509999</td>\n",
       "    </tr>\n",
       "    <tr>\n",
       "      <th>9</th>\n",
       "      <td>2017</td>\n",
       "      <td>575000</td>\n",
       "    </tr>\n",
       "  </tbody>\n",
       "</table>\n",
       "</div>"
      ],
      "text/plain": [
       "   Year   Price\n",
       "0  2018  465000\n",
       "1  2019  755000\n",
       "2  2019  700000\n",
       "3  2018  465000\n",
       "4  2018  465000\n",
       "5  2015  350000\n",
       "6  2016  425000\n",
       "7  2017  575000\n",
       "8  2017  509999\n",
       "9  2017  575000"
      ]
     },
     "execution_count": 247,
     "metadata": {},
     "output_type": "execute_result"
    }
   ],
   "source": [
    "data.head(10)"
   ]
  },
  {
   "cell_type": "code",
   "execution_count": 248,
   "id": "ffbe846e",
   "metadata": {},
   "outputs": [
    {
     "data": {
      "text/plain": [
       "483866.04464285716"
      ]
     },
     "execution_count": 248,
     "metadata": {},
     "output_type": "execute_result"
    }
   ],
   "source": [
    "data['Price'].mean()"
   ]
  },
  {
   "cell_type": "code",
   "execution_count": 249,
   "id": "0609fe26",
   "metadata": {},
   "outputs": [
    {
     "name": "stdout",
     "output_type": "stream",
     "text": [
      "<class 'pandas.core.frame.DataFrame'>\n",
      "RangeIndex: 112 entries, 0 to 111\n",
      "Data columns (total 2 columns):\n",
      " #   Column  Non-Null Count  Dtype\n",
      "---  ------  --------------  -----\n",
      " 0   Year    112 non-null    int64\n",
      " 1   Price   112 non-null    int64\n",
      "dtypes: int64(2)\n",
      "memory usage: 1.9 KB\n"
     ]
    }
   ],
   "source": [
    "data.info()"
   ]
  },
  {
   "cell_type": "code",
   "execution_count": 250,
   "id": "e6a01636",
   "metadata": {},
   "outputs": [
    {
     "data": {
      "text/html": [
       "<div>\n",
       "<style scoped>\n",
       "    .dataframe tbody tr th:only-of-type {\n",
       "        vertical-align: middle;\n",
       "    }\n",
       "\n",
       "    .dataframe tbody tr th {\n",
       "        vertical-align: top;\n",
       "    }\n",
       "\n",
       "    .dataframe thead th {\n",
       "        text-align: right;\n",
       "    }\n",
       "</style>\n",
       "<table border=\"1\" class=\"dataframe\">\n",
       "  <thead>\n",
       "    <tr style=\"text-align: right;\">\n",
       "      <th></th>\n",
       "      <th>Year</th>\n",
       "      <th>Price</th>\n",
       "    </tr>\n",
       "  </thead>\n",
       "  <tbody>\n",
       "    <tr>\n",
       "      <th>count</th>\n",
       "      <td>112.000000</td>\n",
       "      <td>112.000000</td>\n",
       "    </tr>\n",
       "    <tr>\n",
       "      <th>mean</th>\n",
       "      <td>2016.669643</td>\n",
       "      <td>483866.044643</td>\n",
       "    </tr>\n",
       "    <tr>\n",
       "      <th>std</th>\n",
       "      <td>1.629616</td>\n",
       "      <td>91217.450533</td>\n",
       "    </tr>\n",
       "    <tr>\n",
       "      <th>min</th>\n",
       "      <td>2013.000000</td>\n",
       "      <td>300000.000000</td>\n",
       "    </tr>\n",
       "    <tr>\n",
       "      <th>25%</th>\n",
       "      <td>2015.000000</td>\n",
       "      <td>423750.000000</td>\n",
       "    </tr>\n",
       "    <tr>\n",
       "      <th>50%</th>\n",
       "      <td>2017.000000</td>\n",
       "      <td>500000.000000</td>\n",
       "    </tr>\n",
       "    <tr>\n",
       "      <th>75%</th>\n",
       "      <td>2017.000000</td>\n",
       "      <td>550000.000000</td>\n",
       "    </tr>\n",
       "    <tr>\n",
       "      <th>max</th>\n",
       "      <td>2020.000000</td>\n",
       "      <td>755000.000000</td>\n",
       "    </tr>\n",
       "  </tbody>\n",
       "</table>\n",
       "</div>"
      ],
      "text/plain": [
       "              Year          Price\n",
       "count   112.000000     112.000000\n",
       "mean   2016.669643  483866.044643\n",
       "std       1.629616   91217.450533\n",
       "min    2013.000000  300000.000000\n",
       "25%    2015.000000  423750.000000\n",
       "50%    2017.000000  500000.000000\n",
       "75%    2017.000000  550000.000000\n",
       "max    2020.000000  755000.000000"
      ]
     },
     "execution_count": 250,
     "metadata": {},
     "output_type": "execute_result"
    }
   ],
   "source": [
    "data.describe()"
   ]
  },
  {
   "cell_type": "markdown",
   "id": "ec0ee719",
   "metadata": {},
   "source": [
    "# Missing Value Handling"
   ]
  },
  {
   "cell_type": "code",
   "execution_count": 251,
   "id": "7334bd4c",
   "metadata": {},
   "outputs": [
    {
     "data": {
      "text/plain": [
       "Year     0\n",
       "Price    0\n",
       "dtype: int64"
      ]
     },
     "execution_count": 251,
     "metadata": {},
     "output_type": "execute_result"
    }
   ],
   "source": [
    "data.isna().sum()"
   ]
  },
  {
   "cell_type": "markdown",
   "id": "329b8d40",
   "metadata": {},
   "source": [
    "There is no missing value found"
   ]
  },
  {
   "cell_type": "code",
   "execution_count": 252,
   "id": "e91b03e3",
   "metadata": {},
   "outputs": [
    {
     "data": {
      "text/plain": [
       "Year     int64\n",
       "Price    int64\n",
       "dtype: object"
      ]
     },
     "execution_count": 252,
     "metadata": {},
     "output_type": "execute_result"
    }
   ],
   "source": [
    "data.dtypes"
   ]
  },
  {
   "cell_type": "markdown",
   "id": "a258a9a3",
   "metadata": {},
   "source": [
    "# Correlation"
   ]
  },
  {
   "cell_type": "code",
   "execution_count": 253,
   "id": "18f6a873",
   "metadata": {},
   "outputs": [
    {
     "data": {
      "image/png": "[encoded data removed]",
      "text/plain": [
       "<Figure size 640x480 with 2 Axes>"
      ]
     },
     "metadata": {},
     "output_type": "display_data"
    }
   ],
   "source": [
    "correlation_matrix = data.corr()\n",
    "sns.heatmap(correlation_matrix, annot=True)\n",
    "plt.show()"
   ]
  },
  {
   "cell_type": "code",
   "execution_count": 254,
   "id": "051b2193",
   "metadata": {},
   "outputs": [
    {
     "data": {
      "text/plain": [
       "Index(['Year', 'Price'], dtype='object')"
      ]
     },
     "execution_count": 254,
     "metadata": {},
     "output_type": "execute_result"
    }
   ],
   "source": [
    "data.columns"
   ]
  },
  {
   "cell_type": "markdown",
   "id": "82a95828",
   "metadata": {},
   "source": [
    "# Outlier Handling"
   ]
  },
  {
   "cell_type": "code",
   "execution_count": 255,
   "id": "fa4e7ab1",
   "metadata": {},
   "outputs": [
    {
     "data": {
      "image/png": "[encoded data removed]",
      "text/plain": [
       "<Figure size 640x480 with 1 Axes>"
      ]
     },
     "metadata": {},
     "output_type": "display_data"
    },
    {
     "data": {
      "image/png": "[encoded data removed]",
      "text/plain": [
       "<Figure size 640x480 with 1 Axes>"
      ]
     },
     "metadata": {},
     "output_type": "display_data"
    }
   ],
   "source": [
    "num_cols = ['Year', 'Price']\n",
    "for i in num_cols:\n",
    "    plt.figure()\n",
    "    plt.boxplot(data[i])\n",
    "    plt.title(i)"
   ]
  },
  {
   "cell_type": "code",
   "execution_count": 256,
   "id": "300660a4",
   "metadata": {},
   "outputs": [],
   "source": [
    "Q1 = np.percentile(data['Price'],25,interpolation='midpoint')\n",
    "Q2 = np.percentile(data['Price'],50,interpolation='midpoint')\n",
    "Q3 = np.percentile(data['Price'],75,interpolation='midpoint')"
   ]
  },
  {
   "cell_type": "code",
   "execution_count": 257,
   "id": "ab83d3ff",
   "metadata": {},
   "outputs": [
    {
     "name": "stdout",
     "output_type": "stream",
     "text": [
      "422500.0\n",
      "500000.0\n",
      "550000.0\n"
     ]
    }
   ],
   "source": [
    "print(Q1)\n",
    "print(Q2)\n",
    "print(Q3)"
   ]
  },
  {
   "cell_type": "code",
   "execution_count": 258,
   "id": "32fcbea0",
   "metadata": {},
   "outputs": [],
   "source": [
    "IQR=Q3-Q1"
   ]
  },
  {
   "cell_type": "code",
   "execution_count": 259,
   "id": "918046f5",
   "metadata": {},
   "outputs": [
    {
     "name": "stdout",
     "output_type": "stream",
     "text": [
      "127500.0\n"
     ]
    }
   ],
   "source": [
    "print(IQR)"
   ]
  },
  {
   "cell_type": "code",
   "execution_count": 260,
   "id": "cdb938f8",
   "metadata": {},
   "outputs": [],
   "source": [
    "up_lim = Q3+1.5*IQR\n",
    "low_lim = Q1-1.5*IQR"
   ]
  },
  {
   "cell_type": "code",
   "execution_count": 261,
   "id": "c69ad937",
   "metadata": {},
   "outputs": [
    {
     "name": "stdout",
     "output_type": "stream",
     "text": [
      "741250.0\n",
      "231250.0\n"
     ]
    }
   ],
   "source": [
    "print(up_lim)\n",
    "print(low_lim)"
   ]
  },
  {
   "cell_type": "code",
   "execution_count": 262,
   "id": "bf0f0c6b",
   "metadata": {},
   "outputs": [],
   "source": [
    "outliers = []\n",
    "for x in data['Price']:\n",
    "    if(x>up_lim) or (x<low_lim):\n",
    "        outliers.append(x)"
   ]
  },
  {
   "cell_type": "code",
   "execution_count": 263,
   "id": "e6493b0d",
   "metadata": {},
   "outputs": [
    {
     "data": {
      "text/plain": [
       "[755000]"
      ]
     },
     "execution_count": 263,
     "metadata": {},
     "output_type": "execute_result"
    }
   ],
   "source": [
    "outliers"
   ]
  },
  {
   "cell_type": "markdown",
   "id": "6d87ed54",
   "metadata": {},
   "source": [
    "Only found one outlier in column Price"
   ]
  },
  {
   "cell_type": "code",
   "execution_count": 264,
   "id": "6cd4e434",
   "metadata": {},
   "outputs": [],
   "source": [
    "ind1 = data['Price'] > up_lim\n",
    "indices = data.loc[ind1].index"
   ]
  },
  {
   "cell_type": "code",
   "execution_count": 265,
   "id": "49d56820",
   "metadata": {},
   "outputs": [
    {
     "data": {
      "text/plain": [
       "Int64Index([1], dtype='int64')"
      ]
     },
     "execution_count": 265,
     "metadata": {},
     "output_type": "execute_result"
    }
   ],
   "source": [
    "indices"
   ]
  },
  {
   "cell_type": "code",
   "execution_count": 266,
   "id": "f4740219",
   "metadata": {},
   "outputs": [],
   "source": [
    "data.drop([1],inplace=True)"
   ]
  },
  {
   "cell_type": "code",
   "execution_count": 267,
   "id": "54fcc809",
   "metadata": {},
   "outputs": [
    {
     "data": {
      "text/plain": [
       "(111, 2)"
      ]
     },
     "execution_count": 267,
     "metadata": {},
     "output_type": "execute_result"
    }
   ],
   "source": [
    "data.shape"
   ]
  },
  {
   "cell_type": "code",
   "execution_count": 268,
   "id": "c12698c5",
   "metadata": {},
   "outputs": [
    {
     "data": {
      "image/png": "[encoded data removed]",
      "text/plain": [
       "<Figure size 640x480 with 1 Axes>"
      ]
     },
     "metadata": {},
     "output_type": "display_data"
    }
   ],
   "source": [
    "plt.scatter(data['Year'],data['Price'])\n",
    "plt.xlabel('Year')\n",
    "plt.ylabel('Price')\n",
    "plt.show()"
   ]
  },
  {
   "cell_type": "markdown",
   "id": "5de1aa93",
   "metadata": {},
   "source": [
    "# Regression"
   ]
  },
  {
   "cell_type": "markdown",
   "id": "ba7a07c3",
   "metadata": {},
   "source": [
    "## Linear Regression "
   ]
  },
  {
   "cell_type": "code",
   "execution_count": 269,
   "id": "2e482a70",
   "metadata": {},
   "outputs": [],
   "source": [
    "# Split the data into features (year) and target variable (price)\n",
    "X = data['Year'].values.reshape(-1,1)\n",
    "y = data['Price'].values"
   ]
  },
  {
   "cell_type": "code",
   "execution_count": 270,
   "id": "564c8afe",
   "metadata": {},
   "outputs": [],
   "source": [
    "from sklearn.model_selection import train_test_split"
   ]
  },
  {
   "cell_type": "code",
   "execution_count": 271,
   "id": "f13f5f9d",
   "metadata": {},
   "outputs": [],
   "source": [
    "# Split the data into training and testing sets\n",
    "X_train, X_test, y_train, y_test = train_test_split(X, y, test_size=0.25, random_state=3)"
   ]
  },
  {
   "cell_type": "code",
   "execution_count": 272,
   "id": "aaa3c1ca",
   "metadata": {},
   "outputs": [],
   "source": [
    "from sklearn.linear_model import LinearRegression"
   ]
  },
  {
   "cell_type": "code",
   "execution_count": 273,
   "id": "4d5aa9bd",
   "metadata": {},
   "outputs": [],
   "source": [
    "# Linear Regression model\n",
    "linear_reg = LinearRegression()\n",
    "model1=linear_reg.fit(X_train, y_train)"
   ]
  },
  {
   "cell_type": "code",
   "execution_count": 274,
   "id": "c295222a",
   "metadata": {},
   "outputs": [],
   "source": [
    "linear_y_pred = model1.predict(X_test)"
   ]
  },
  {
   "cell_type": "markdown",
   "id": "e53d4d7d",
   "metadata": {},
   "source": [
    "no scaling is required, since it has only one feature"
   ]
  },
  {
   "cell_type": "markdown",
   "id": "9c1528d8",
   "metadata": {},
   "source": [
    "### Evaluation "
   ]
  },
  {
   "cell_type": "code",
   "execution_count": 275,
   "id": "1690313c",
   "metadata": {},
   "outputs": [
    {
     "data": {
      "text/plain": [
       "(array([620364.4493642 , 370176.02054949, 495270.23495685, 453572.16348773,\n",
       "        578666.37789509, 495270.23495685, 495270.23495685, 495270.23495685,\n",
       "        411874.0920186 , 578666.37789509, 495270.23495685, 411874.0920186 ,\n",
       "        495270.23495685, 495270.23495685, 495270.23495685, 411874.0920186 ,\n",
       "        578666.37789509, 495270.23495685, 536968.30642596, 495270.23495685,\n",
       "        328477.94908036, 495270.23495685, 411874.0920186 , 578666.37789509,\n",
       "        578666.37789509, 411874.0920186 , 495270.23495685, 495270.23495685]),\n",
       " array([600000, 400000, 575000, 425000, 600000, 520000, 550000, 550000,\n",
       "        325000, 550000, 550000, 425000, 490000, 520000, 520000, 350000,\n",
       "        600000, 520000, 550000, 520000, 345000, 500000, 390000, 500000,\n",
       "        500000, 300000, 540000, 575000], dtype=int64))"
      ]
     },
     "execution_count": 275,
     "metadata": {},
     "output_type": "execute_result"
    }
   ],
   "source": [
    "linear_y_pred, y_test"
   ]
  },
  {
   "cell_type": "code",
   "execution_count": 276,
   "id": "9947e6ff",
   "metadata": {},
   "outputs": [
    {
     "data": {
      "text/plain": [
       "Text(0, 0.5, 'y_pred')"
      ]
     },
     "execution_count": 276,
     "metadata": {},
     "output_type": "execute_result"
    },
    {
     "data": {
      "image/png": "[encoded data removed]",
      "text/plain": [
       "<Figure size 640x480 with 1 Axes>"
      ]
     },
     "metadata": {},
     "output_type": "display_data"
    }
   ],
   "source": [
    "plt.scatter(y_test,linear_y_pred)\n",
    "plt.title('Linear Regression y_test vs y_pred')            \n",
    "plt.xlabel('y_test')                          \n",
    "plt.ylabel('y_pred')"
   ]
  },
  {
   "cell_type": "code",
   "execution_count": 277,
   "id": "4a5916ab",
   "metadata": {},
   "outputs": [],
   "source": [
    "from sklearn.metrics import mean_squared_error,r2_score"
   ]
  },
  {
   "cell_type": "code",
   "execution_count": 278,
   "id": "6565ab20",
   "metadata": {},
   "outputs": [
    {
     "name": "stdout",
     "output_type": "stream",
     "text": [
      "Linear mean Squared Error = 2429380860.130084\n",
      "Linear R2 score = 0.6703929057122116\n"
     ]
    }
   ],
   "source": [
    "print('Linear mean Squared Error =',mean_squared_error(y_test,linear_y_pred))\n",
    "print('Linear R2 score =',r2_score(y_test,linear_y_pred))"
   ]
  },
  {
   "cell_type": "markdown",
   "id": "a805fba0",
   "metadata": {},
   "source": [
    "## Lasso Regression"
   ]
  },
  {
   "cell_type": "code",
   "execution_count": 279,
   "id": "4a22789b",
   "metadata": {},
   "outputs": [],
   "source": [
    "\n",
    "# Split the data into training and testing sets\n",
    "X_train, X_test, y_train, y_test = train_test_split(X, y, test_size=0.25, random_state=3)"
   ]
  },
  {
   "cell_type": "code",
   "execution_count": 280,
   "id": "b331bf45",
   "metadata": {},
   "outputs": [],
   "source": [
    "\n",
    "from sklearn. linear_model import Lasso"
   ]
  },
  {
   "cell_type": "code",
   "execution_count": 281,
   "id": "c71c50e3",
   "metadata": {},
   "outputs": [],
   "source": [
    "# Lasso Regression model\n",
    "lasso_reg = Lasso(alpha=0.1)\n",
    "model2=lasso_reg.fit(X_train, y_train)"
   ]
  },
  {
   "cell_type": "code",
   "execution_count": 282,
   "id": "c025a804",
   "metadata": {},
   "outputs": [],
   "source": [
    "lasso_y_pred = model2.predict(X_test)"
   ]
  },
  {
   "cell_type": "markdown",
   "id": "e7b3d755",
   "metadata": {},
   "source": [
    "### Evaluation"
   ]
  },
  {
   "cell_type": "code",
   "execution_count": 283,
   "id": "74233635",
   "metadata": {},
   "outputs": [
    {
     "data": {
      "text/plain": [
       "(array([620364.31555404, 370176.12137829, 495270.21846616, 453572.18610354,\n",
       "        578666.28319141, 495270.21846616, 495270.21846616, 495270.21846616,\n",
       "        411874.15374091, 578666.28319141, 495270.21846616, 411874.15374091,\n",
       "        495270.21846616, 495270.21846616, 495270.21846616, 411874.15374091,\n",
       "        578666.28319141, 495270.21846616, 536968.25082879, 495270.21846616,\n",
       "        328478.08901566, 495270.21846616, 411874.15374091, 578666.28319141,\n",
       "        578666.28319141, 411874.15374091, 495270.21846616, 495270.21846616]),\n",
       " array([600000, 400000, 575000, 425000, 600000, 520000, 550000, 550000,\n",
       "        325000, 550000, 550000, 425000, 490000, 520000, 520000, 350000,\n",
       "        600000, 520000, 550000, 520000, 345000, 500000, 390000, 500000,\n",
       "        500000, 300000, 540000, 575000], dtype=int64))"
      ]
     },
     "execution_count": 283,
     "metadata": {},
     "output_type": "execute_result"
    }
   ],
   "source": [
    "lasso_y_pred, y_test"
   ]
  },
  {
   "cell_type": "code",
   "execution_count": 284,
   "id": "6c831cab",
   "metadata": {},
   "outputs": [
    {
     "data": {
      "text/plain": [
       "Text(0, 0.5, 'y_pred')"
      ]
     },
     "execution_count": 284,
     "metadata": {},
     "output_type": "execute_result"
    },
    {
     "data": {
      "image/png": "[encoded data removed]",
      "text/plain": [
       "<Figure size 640x480 with 1 Axes>"
      ]
     },
     "metadata": {},
     "output_type": "display_data"
    }
   ],
   "source": [
    "plt.scatter(y_test,lasso_y_pred)\n",
    "plt.title('Lasso Regression y_test vs y_pred')            \n",
    "plt.xlabel('y_test')                          \n",
    "plt.ylabel('y_pred') "
   ]
  },
  {
   "cell_type": "code",
   "execution_count": 285,
   "id": "31b1d303",
   "metadata": {},
   "outputs": [
    {
     "name": "stdout",
     "output_type": "stream",
     "text": [
      "Lasso Mean Squared Error = 2429381180.396382\n",
      "Lasso R2 score = 0.67039286225997\n"
     ]
    }
   ],
   "source": [
    "print('Lasso Mean Squared Error =',mean_squared_error(y_test,lasso_y_pred))\n",
    "print('Lasso R2 score =',r2_score(y_test,lasso_y_pred))"
   ]
  },
  {
   "cell_type": "markdown",
   "id": "43a0a302",
   "metadata": {},
   "source": [
    "Comparing the mean squared error (MSE) and R-squared (R2) scores for both Lasso regression and Linear regression models, we can see that they have very similar values.In terms of mean squared error, the difference between the two models is minimal: Lasso MSE is slightly higher than Linear MSE.In terms of R-squared score, the values are also very close and indicate that both models explain approximately 67% of the variance in the target variable.Based on these metrics alone, it is difficult to determine a significant difference in performance between Lasso regression and Linear regression. They have similar predictive accuracy for the given dataset."
   ]
  },
  {
   "cell_type": "markdown",
   "id": "92bd7808",
   "metadata": {},
   "source": [
    "### Make predictions for the 2022 model using both models "
   ]
  },
  {
   "cell_type": "code",
   "execution_count": 286,
   "id": "bbd8c1fd",
   "metadata": {},
   "outputs": [],
   "source": [
    "linear_pred=model1.predict([[2022]])\n",
    "lasso_pred=model2.predict([[2022]])"
   ]
  },
  {
   "cell_type": "code",
   "execution_count": 287,
   "id": "2b8a97a7",
   "metadata": {},
   "outputs": [
    {
     "name": "stdout",
     "output_type": "stream",
     "text": [
      "Linear Regression predicted price for 2022 model: 703760.5923024416\n",
      "Lasso Regression predicted price for 2022 model: 703760.3802792877\n"
     ]
    }
   ],
   "source": [
    "# Print the predicted prices\n",
    "print(\"Linear Regression predicted price for 2022 model:\", linear_pred[0])\n",
    "print(\"Lasso Regression predicted price for 2022 model:\", lasso_pred[0])\n"
   ]
  },
  {
   "cell_type": "code",
   "execution_count": null,
   "id": "9bbf41f0",
   "metadata": {},
   "outputs": [],
   "source": [
    "\n",
    "\n"
   ]
  },
  {
   "cell_type": "code",
   "execution_count": null,
   "id": "a70419fc",
   "metadata": {},
   "outputs": [],
   "source": []
  },
  {
   "cell_type": "code",
   "execution_count": null,
   "id": "aad6b0a0",
   "metadata": {},
   "outputs": [],
   "source": []
  }
 ],
 "metadata": {
  "kernelspec": {
   "display_name": "Python 3 (ipykernel)",
   "language": "python",
   "name": "python3"
  },
  "language_info": {
   "codemirror_mode": {
    "name": "ipython",
    "version": 3
   },
   "file_extension": ".py",
   "mimetype": "text/x-python",
   "name": "python",
   "nbconvert_exporter": "python",
   "pygments_lexer": "ipython3",
   "version": "3.9.13"
  }
 },
 "nbformat": 4,
 "nbformat_minor": 5
}
