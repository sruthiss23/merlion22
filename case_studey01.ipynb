{
 "cells": [
  {
   "cell_type": "markdown",
   "id": "d31f1908",
   "metadata": {},
   "source": [
    "# Case study 01"
   ]
  },
  {
   "cell_type": "raw",
   "id": "e19b76ef",
   "metadata": {},
   "source": [
    "1. A school has following rules for grading system:\n",
    "a. Below 25 - F\n",
    "b. 25 to 45 - E\n",
    "c. 45 to 50 - D\n",
    "d. 50 to 60 - C\n",
    "e. 60 to 80 - B\n",
    "f. Above 80 - A\n",
    "Ask user to enter marks and print the corresponding grade"
   ]
  },
  {
   "cell_type": "code",
   "execution_count": 7,
   "id": "c1d00428",
   "metadata": {
    "scrolled": true
   },
   "outputs": [
    {
     "name": "stdout",
     "output_type": "stream",
     "text": [
      "Enter the marks88\n",
      "Marks: 88 Grade is A\n"
     ]
    }
   ],
   "source": [
    "m=int(input('Enter the marks'))\n",
    "if m<=25:\n",
    "    print('Mark:',m,'Grade is F')\n",
    "elif(m>25 and m<=45):\n",
    "    print('Mark:',m,'Grade is E')\n",
    "elif(m>45 and m<=50):\n",
    "    print('Mark:',m,'Grade is D')\n",
    "elif(m>50 and m<=60):\n",
    "    print('Mark:',m,'Grade is C')\n",
    "elif(m>60 and m<=80):\n",
    "    print('Mark:',m,'Grade is B')\n",
    "else:\n",
    "    print(\"Marks:\",m, \"Grade is A\")\n",
    "    "
   ]
  },
  {
   "cell_type": "raw",
   "id": "c1dae08f",
   "metadata": {},
   "source": [
    "2. You have a list of names. Create a new list which contains only the names\n",
    "with non-repeating characters.\n",
    "Sample input = [‘John’,’Peter’,’Meera’,’Mini’,’Krishna’]\n",
    "Sample output = [‘John’,Krishna]\n"
   ]
  },
  {
   "cell_type": "code",
   "execution_count": 22,
   "id": "f0a6f547",
   "metadata": {},
   "outputs": [
    {
     "name": "stdout",
     "output_type": "stream",
     "text": [
      "['John', 'Krishna']\n"
     ]
    }
   ],
   "source": [
    "l1=['John','Peter','Meera','Mini','Krishna']\n",
    "l2=[]\n",
    "l3=[]\n",
    "for i in l1:\n",
    "    for j in range(0,len(i)):\n",
    "        for k in range (j+1,len(i)):\n",
    "            if i[j]==i[k]:\n",
    "                l2.append(i)\n",
    "for i in l1:\n",
    "    if i not in l2:\n",
    "        l3.append(i)\n",
    "print(l3)"
   ]
  },
  {
   "cell_type": "raw",
   "id": "c89330e9",
   "metadata": {},
   "source": [
    "3. Take values of length and breadth of a rectangle from user and check if it\n",
    "is square or not.\n"
   ]
  },
  {
   "cell_type": "code",
   "execution_count": 6,
   "id": "980c05e2",
   "metadata": {},
   "outputs": [
    {
     "name": "stdout",
     "output_type": "stream",
     "text": [
      "Enter the sides5 7\n",
      "Not square\n"
     ]
    }
   ],
   "source": [
    "a,b=map(int,input('Enter the sides').split(' '))\n",
    "if a==b:\n",
    "    print(\"Square\")\n",
    "else:\n",
    "    print('Not square')"
   ]
  },
  {
   "cell_type": "raw",
   "id": "c61002ff",
   "metadata": {},
   "source": [
    "4. A student will not be allowed to sit in exam if his/her attendance is less\n",
    "than 75%. Take following input from user Number of classes held\n",
    "Number of classes attended. And print percentage of class attended Is\n",
    "student is allowed to sit in exam or not.\n"
   ]
  },
  {
   "cell_type": "code",
   "execution_count": 13,
   "id": "e0fb2c7c",
   "metadata": {},
   "outputs": [
    {
     "name": "stdout",
     "output_type": "stream",
     "text": [
      "Enter the total number of classes 50\n",
      "Enter the number of classes attended 45\n",
      "attendance in percentage: 90.0 Student is allowed to attend the exam\n"
     ]
    }
   ],
   "source": [
    "ta=int(input(\"Enter the total number of classes \"))\n",
    "sta=int(input('Enter the number of classes attended '))\n",
    "p=(sta/ta)*100\n",
    "if p>=75:\n",
    "    print(\"attendance in percentage:\",p,'Student is allowed to attend the exam')\n",
    "else:\n",
    "    print(\"attendance in percentage:\",p,'student is not allowed to attend the exam')"
   ]
  },
  {
   "cell_type": "raw",
   "id": "07b55839",
   "metadata": {},
   "source": [
    "5. Create a list by taking length of the list and elements of the list from user.\n",
    "Then find the sum of the elements of the list. Also create a new called even\n",
    "list which contains only even numbers from first list and odd list which\n",
    "contains odd numbers from the list.\n",
    "Sample input:\n",
    "Length of the list = 5\n",
    "List1 = [2,6,3,1,5]\n",
    "Sum = 17\n",
    "Even_list=[2,6]\n",
    "Odd_list=[3,1,5]"
   ]
  },
  {
   "cell_type": "code",
   "execution_count": 2,
   "id": "c6333b84",
   "metadata": {
    "scrolled": true
   },
   "outputs": [
    {
     "name": "stdout",
     "output_type": "stream",
     "text": [
      "Length of the list = 5\n",
      " 2\n",
      " 6\n",
      " 3\n",
      " 1\n",
      " 5\n",
      "List1 = [2, 6, 3, 1, 5]\n",
      "Sum = 17\n",
      "Even_list =  [2, 6]\n",
      "Odd_list =  [3, 1, 5]\n"
     ]
    }
   ],
   "source": [
    "l=[]\n",
    "even_list=[]\n",
    "odd_list=[]\n",
    "s=0\n",
    "n=int(input('Length of the list = '))\n",
    "for i in range(1,n+1):\n",
    "    x=int(input(\" \"))\n",
    "    l.append(x)\n",
    "    s=s+x\n",
    "    if x%2==0:\n",
    "        even_list.append(x)\n",
    "    else:\n",
    "        odd_list.append(x)\n",
    "print('List1 =',l)\n",
    "print('Sum =',s)\n",
    "print(\"Even_list = \",even_list)\n",
    "print(\"Odd_list = \",odd_list)"
   ]
  },
  {
   "cell_type": "markdown",
   "id": "aaac1378",
   "metadata": {},
   "source": [
    "\n"
   ]
  },
  {
   "cell_type": "raw",
   "id": "b49f574c",
   "metadata": {},
   "source": [
    "6. Create a sample chatbot for an ecommerce website."
   ]
  },
  {
   "cell_type": "code",
   "execution_count": 2,
   "id": "a131f49e",
   "metadata": {},
   "outputs": [
    {
     "name": "stdout",
     "output_type": "stream",
     "text": [
      "Welcome to NTUC FairPrice\n",
      "Enter Quit to stop groceries\n",
      "Please vist wwww.fairprice.com.sg for more details\n",
      "Enter Quit to stop offers\n",
      "30% off in fairprice products \n",
      " $5 off on fresh vegitables with $50 min. spend \n",
      " 20% off on Frozen sea food products\n",
      "Enter Quit to stop quit\n",
      "See you later!\n",
      "Thank you for Visiting us\n"
     ]
    }
   ],
   "source": [
    "print('Welcome to NTUC FairPrice')\n",
    "\n",
    "while True:\n",
    "    x = input('Enter Quit to stop ')\n",
    "    x=x.lower()\n",
    "    if x =='quit':\n",
    "        print('See you later!')\n",
    "        print('Thank you for Visiting us')\n",
    "        break\n",
    "    y=x.split()\n",
    "    if len(y)==0:\n",
    "        print('Please give a valid input')\n",
    "    elif 'offers' in y:\n",
    "        print('30% off in fairprice products \\n','$5 off on fresh vegitables with $50 min. spend \\n','20% off on Frozen sea food products')\n",
    "    elif 'groceries' in y:\n",
    "        print('Please vist wwww.fairprice.com.sg for more details')\n",
    "    elif 'drinks' in y:\n",
    "        print('yes drinks are available, Please visit wwww.fairprice.com.sg for more deails')\n",
    "    elif 'baby' in y:\n",
    "        print('yes baby,child products and toys are available, Please visit wwww.fairprice.com.sg for more deails')\n",
    "    elif 'bakery' in y:\n",
    "        print('yes bakery products like bread, jam ,peanut spread, etc are available, Please visit wwww.fairprice.com.sg for more deails')\n",
    "    elif 'dairy' in y:\n",
    "        print('yes milk, eggs, etc are available, Please visit wwww.fairprice.com.sg for more deails') \n",
    "    elif 'Frozen' in y:\n",
    "        print('yes frozen meat,Frozen sea food, frozen vegitables, etc are available, Please visit wwww.fairprice.com.sg for more deails')\n",
    "    else:\n",
    "        print('Please use another option')"
   ]
  },
  {
   "cell_type": "raw",
   "id": "d4332695",
   "metadata": {},
   "source": [
    "7. Write a program to find the roots of a quadratic equation. Get the coefficients of quadratic equation ax^2+bx+c and display whether the roots\n",
    "are real and equal or real and distinct or roots are imaginary. You have to\n",
    "find the roots and display it as well. "
   ]
  },
  {
   "cell_type": "code",
   "execution_count": 25,
   "id": "13ae0896",
   "metadata": {},
   "outputs": [
    {
     "name": "stdout",
     "output_type": "stream",
     "text": [
      "1 4 5\n",
      "The roots are imaginary\n",
      "The roots are : (-2+1j) and (-2-1j)\n"
     ]
    }
   ],
   "source": [
    "x=0\n",
    "y=0\n",
    "import cmath\n",
    "a,b,c=map(int,input().split(' '))\n",
    "d=(b**2)-(4*a*c)\n",
    "x =(-b + cmath.sqrt(d))/(2*a)\n",
    "y =(-b - cmath.sqrt(d))/(2*a)\n",
    "if d==0:\n",
    "    print('The roots are real and equal')\n",
    "    print('The roots are :',x,'and',y)\n",
    "elif d>0:\n",
    "    print('The roots are real and unequal')\n",
    "    print('The roots are :',x,'and',y)\n",
    "else:\n",
    "    print('The roots are imaginary')\n",
    "    print('The roots are :',x,'and',y)"
   ]
  },
  {
   "cell_type": "raw",
   "id": "da94d408",
   "metadata": {},
   "source": [
    "8. Given a range of first 10 numbers, write a Python program to iterate from\n",
    "start number to the end number and print the sum of the current number\n",
    "and previous number.\n",
    "Sample input: 1….10\n",
    "Sample output: Current Number 1 Previous Number 0 Sum: 1\n",
    "Current Number 2 Previous Number 1 Sum: 3\n",
    "Current Number 3 Previous Number 2 Sum: 5…\n",
    "…….\n",
    "Current Number 10 Previous Number 9 Sum: 19\n"
   ]
  },
  {
   "cell_type": "code",
   "execution_count": 31,
   "id": "8382e87d",
   "metadata": {
    "scrolled": true
   },
   "outputs": [
    {
     "name": "stdout",
     "output_type": "stream",
     "text": [
      "Enter the number1\n",
      "current number 1 Previous number 0 Sum = 1\n",
      "current number 2 Previous number 1 Sum = 3\n",
      "current number 3 Previous number 2 Sum = 5\n",
      "current number 4 Previous number 3 Sum = 7\n",
      "current number 5 Previous number 4 Sum = 9\n",
      "current number 6 Previous number 5 Sum = 11\n",
      "current number 7 Previous number 6 Sum = 13\n",
      "current number 8 Previous number 7 Sum = 15\n",
      "current number 9 Previous number 8 Sum = 17\n",
      "current number 10 Previous number 9 Sum = 19\n"
     ]
    }
   ],
   "source": [
    "i=0\n",
    "a1=int(input(\"Enter the number\"))\n",
    "for i in range(a1,a1+10):\n",
    "    b1=i-1\n",
    "    s=i+b1\n",
    "    print(\"current number\",i,'Previous number',b1, \"Sum =\",s)"
   ]
  },
  {
   "cell_type": "raw",
   "id": "e9ed28a7",
   "metadata": {},
   "source": [
    "9. Write a Python program to find the prime numbers in a given range. Get\n",
    "the range from user and print prime numbers in that range."
   ]
  },
  {
   "cell_type": "code",
   "execution_count": 3,
   "id": "bb931a68",
   "metadata": {
    "scrolled": true
   },
   "outputs": [
    {
     "name": "stdout",
     "output_type": "stream",
     "text": [
      "Enter the minimum value : 10\n",
      "Enter the maximum value : 30\n",
      "[11, 13, 17, 19, 23, 29]\n"
     ]
    }
   ],
   "source": [
    "min_limit=int(input(\"Enter the minimum value : \"))\n",
    "max_limit=int(input(\"Enter the maximum value : \"))\n",
    "prime=[]\n",
    "for num in range(min_limit, max_limit+1):\n",
    "    if num>1:\n",
    "        for i in range(2,num):\n",
    "            if(num%i)==0:\n",
    "                break\n",
    "        else:\n",
    "            prime.append(num)\n",
    "len(prime)\n",
    "print(prime)\n",
    "    "
   ]
  },
  {
   "cell_type": "raw",
   "id": "8df6d6aa",
   "metadata": {},
   "source": [
    "10. Write a Python program to print Fibonacci series in a given range. Get\n",
    "the range from user and print fibonacci numbers in that range."
   ]
  },
  {
   "cell_type": "code",
   "execution_count": 6,
   "id": "70f77fa2",
   "metadata": {},
   "outputs": [
    {
     "name": "stdout",
     "output_type": "stream",
     "text": [
      "Enter the number10\n",
      "0 1 1 2 3 5 8 13 21 34 "
     ]
    }
   ],
   "source": [
    "n=int(input('Enter the number'))\n",
    "a=0\n",
    "b=1\n",
    "if n<=0:\n",
    "    print(a)\n",
    "else:\n",
    "    print(a,b, end=\" \")\n",
    "    for x in range (2,n):\n",
    "        c=a+b\n",
    "        print(c,end=\" \")\n",
    "        a=b\n",
    "        b=c"
   ]
  },
  {
   "cell_type": "code",
   "execution_count": null,
   "id": "8981ef7d",
   "metadata": {},
   "outputs": [],
   "source": []
  },
  {
   "cell_type": "code",
   "execution_count": null,
   "id": "2e20149f",
   "metadata": {},
   "outputs": [],
   "source": []
  }
 ],
 "metadata": {
  "kernelspec": {
   "display_name": "Python 3 (ipykernel)",
   "language": "python",
   "name": "python3"
  },
  "language_info": {
   "codemirror_mode": {
    "name": "ipython",
    "version": 3
   },
   "file_extension": ".py",
   "mimetype": "text/x-python",
   "name": "python",
   "nbconvert_exporter": "python",
   "pygments_lexer": "ipython3",
   "version": "3.9.13"
  }
 },
 "nbformat": 4,
 "nbformat_minor": 5
}
